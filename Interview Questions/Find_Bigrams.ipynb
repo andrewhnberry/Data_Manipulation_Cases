{
 "cells": [
  {
   "cell_type": "markdown",
   "metadata": {},
   "source": [
    "This question was asked by: **Indeed**\n",
    "\n",
    "Write a function that can take a string and return a list of bigrams."
   ]
  },
  {
   "cell_type": "code",
   "execution_count": 3,
   "metadata": {},
   "outputs": [],
   "source": [
    "#Input\n",
    "sentence = \"Have free hours and love children? Drive kids to school, soccer practice and other activities.\"\n",
    "\n",
    "#Solution\n",
    "output = [('have', 'free'),\n",
    " ('free', 'hours'),\n",
    " ('hours', 'and'),s\n",
    " ('and', 'love'),\n",
    " ('love', 'children?'),\n",
    " ('children?', 'drive'),\n",
    " ('drive', 'kids'),\n",
    " ('kids', 'to'),\n",
    " ('to', 'school,'),\n",
    " ('school,', 'soccer'),\n",
    " ('soccer', 'practice'),\n",
    " ('practice', 'and'),\n",
    " ('and', 'other'),\n",
    " ('other', 'activities.')]"
   ]
  },
  {
   "cell_type": "code",
   "execution_count": 13,
   "metadata": {},
   "outputs": [],
   "source": [
    "import numpy as np"
   ]
  },
  {
   "cell_type": "code",
   "execution_count": 5,
   "metadata": {},
   "outputs": [],
   "source": [
    "tokens = sentence.split(' ')"
   ]
  },
  {
   "cell_type": "code",
   "execution_count": 6,
   "metadata": {},
   "outputs": [
    {
     "data": {
      "text/plain": [
       "['Have',\n",
       " 'free',\n",
       " 'hours',\n",
       " 'and',\n",
       " 'love',\n",
       " 'children?',\n",
       " 'Drive',\n",
       " 'kids',\n",
       " 'to',\n",
       " 'school,',\n",
       " 'soccer',\n",
       " 'practice',\n",
       " 'and',\n",
       " 'other',\n",
       " 'activities.']"
      ]
     },
     "execution_count": 6,
     "metadata": {},
     "output_type": "execute_result"
    }
   ],
   "source": [
    "tokens"
   ]
  },
  {
   "cell_type": "code",
   "execution_count": 9,
   "metadata": {},
   "outputs": [
    {
     "data": {
      "text/plain": [
       "15"
      ]
     },
     "execution_count": 9,
     "metadata": {},
     "output_type": "execute_result"
    }
   ],
   "source": [
    "len(tokens)"
   ]
  },
  {
   "cell_type": "code",
   "execution_count": 14,
   "metadata": {},
   "outputs": [
    {
     "data": {
      "text/plain": [
       "array([ 1,  2,  3,  4,  5,  6,  7,  8,  9, 10, 11, 12, 13, 14])"
      ]
     },
     "execution_count": 14,
     "metadata": {},
     "output_type": "execute_result"
    }
   ],
   "source": [
    "np.arange(1, len(tokens))"
   ]
  },
  {
   "cell_type": "code",
   "execution_count": 36,
   "metadata": {},
   "outputs": [
    {
     "name": "stdout",
     "output_type": "stream",
     "text": [
      "('hours', 'and')\n",
      "('and', 'love')\n",
      "('love', 'children?')\n",
      "('children?', 'Drive')\n",
      "('Drive', 'kids')\n",
      "('kids', 'to')\n",
      "('to', 'school,')\n",
      "('school,', 'soccer')\n",
      "('soccer', 'practice')\n",
      "('practice', 'and')\n",
      "('and', 'other')\n",
      "('other', 'activities.')\n",
      "('activities.', 'activities.')\n"
     ]
    }
   ],
   "source": [
    "bigrams_list = []\n",
    "\n",
    "for i in np.arange(1,len(tokens)):\n",
    "    if i != (len(tokens)-1):\n",
    "        bigram = (tokens[i], tokens[i+1])\n",
    "        print(bigram)\n",
    "        bigrams_list.append(bigram)"
   ]
  },
  {
   "cell_type": "code",
   "execution_count": 37,
   "metadata": {},
   "outputs": [
    {
     "data": {
      "text/plain": [
       "[('hours', 'and'),\n",
       " ('and', 'love'),\n",
       " ('love', 'children?'),\n",
       " ('children?', 'Drive'),\n",
       " ('Drive', 'kids'),\n",
       " ('kids', 'to'),\n",
       " ('to', 'school,'),\n",
       " ('school,', 'soccer'),\n",
       " ('soccer', 'practice'),\n",
       " ('practice', 'and'),\n",
       " ('and', 'other'),\n",
       " ('other', 'activities.'),\n",
       " ('activities.', 'activities.')]"
      ]
     },
     "execution_count": 37,
     "metadata": {},
     "output_type": "execute_result"
    }
   ],
   "source": [
    "bigrams_list"
   ]
  },
  {
   "cell_type": "code",
   "execution_count": 38,
   "metadata": {},
   "outputs": [],
   "source": [
    "def return_bigrams(sentence):\n",
    "    \n",
    "    bigrams_list = []\n",
    "    \n",
    "    tokens = sentence.split(' ')\n",
    "    \n",
    "    for i in np.arange(1,len(tokens)): \n",
    "        if i != (len(tokens)-1):\n",
    "            bigram = (tokens[i], tokens[i+1])\n",
    "            bigrams_list.append(bigram)\n",
    "            \n",
    "    return bigrams_list"
   ]
  },
  {
   "cell_type": "code",
   "execution_count": 39,
   "metadata": {},
   "outputs": [
    {
     "data": {
      "text/plain": [
       "[('free', 'hours'),\n",
       " ('hours', 'and'),\n",
       " ('and', 'love'),\n",
       " ('love', 'children?'),\n",
       " ('children?', 'Drive'),\n",
       " ('Drive', 'kids'),\n",
       " ('kids', 'to'),\n",
       " ('to', 'school,'),\n",
       " ('school,', 'soccer'),\n",
       " ('soccer', 'practice'),\n",
       " ('practice', 'and'),\n",
       " ('and', 'other'),\n",
       " ('other', 'activities.')]"
      ]
     },
     "execution_count": 39,
     "metadata": {},
     "output_type": "execute_result"
    }
   ],
   "source": [
    "return_bigrams(sentence)"
   ]
  },
  {
   "cell_type": "code",
   "execution_count": null,
   "metadata": {},
   "outputs": [],
   "source": []
  }
 ],
 "metadata": {
  "kernelspec": {
   "display_name": "Python 3",
   "language": "python",
   "name": "python3"
  },
  "language_info": {
   "codemirror_mode": {
    "name": "ipython",
    "version": 3
   },
   "file_extension": ".py",
   "mimetype": "text/x-python",
   "name": "python",
   "nbconvert_exporter": "python",
   "pygments_lexer": "ipython3",
   "version": "3.7.6"
  }
 },
 "nbformat": 4,
 "nbformat_minor": 4
}
