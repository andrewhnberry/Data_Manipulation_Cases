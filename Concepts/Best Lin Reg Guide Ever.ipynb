{
 "cells": [
  {
   "cell_type": "markdown",
   "metadata": {},
   "source": [
    "### This notebook will be an overview of Linear Regression, one of the most important concepts any data scientist needs to know.\n",
    "\n",
    "**Author: Andrew Berry**\n",
    "\n",
    "* We will be using the boston housing dataset to understand linear regression. For more information click [here](https://www.cs.toronto.edu/~delve/data/boston/bostonDetail.html)\n",
    "* We will cover how to use linear regression with python, and how it is used in a datascience workflow"
   ]
  },
  {
   "cell_type": "code",
   "execution_count": 10,
   "metadata": {},
   "outputs": [],
   "source": [
    "import pandas as pd\n",
    "import numpy as np\n",
    "import matplotlib.pyplot as plt\n",
    "\n",
    "#Dataset\n",
    "from sklearn.datasets import load_boston"
   ]
  },
  {
   "cell_type": "markdown",
   "metadata": {},
   "source": [
    "#### Data Dictionary\n",
    "\n",
    "|Feature|Description|\n",
    "|---|---|\n",
    "|CRIM|per captia crime rate by town|\n",
    "|ZN|proportion of residential land zoned for lots over 25,000 sq.ft.|\n",
    "|INDUS|proportion of non-retail business acres per town.|\n",
    "|CHAS |Charles River dummy variable (1 if tract bounds river; 0 otherwise)|\n",
    "|NOX |nitric oxides concentration (parts per 10 million)|\n",
    "|RM|average number of rooms per dwelling|\n",
    "|AGE|proportion of owner-occupied units built prior to 1940|\n",
    "|DIS|weighted distances to five Boston employment centres|\n",
    "|RAD|index of accessibility to radial highways|\n",
    "|TAX|full-value property-tax rate per 10,000 dollars|\n",
    "|PTRATIO| pupil-teacher ration by town|\n",
    "|B|1000(Bk - 0.63)^2 where Bk is the proportion of blacks by town|\n",
    "|LSTAT|percent lower status of the population|\n",
    "|**MEDV - aka. target**|Median value of owner-occupied homes in $1000's|"
   ]
  },
  {
   "cell_type": "code",
   "execution_count": 4,
   "metadata": {},
   "outputs": [],
   "source": [
    "#Loading the boston dataset from the sklearn dataset library\n",
    "data = load_boston()\n",
    "\n",
    "df = pd.DataFrame(data.data, columns = data.feature_names)"
   ]
  },
  {
   "cell_type": "code",
   "execution_count": 5,
   "metadata": {},
   "outputs": [
    {
     "data": {
      "text/html": [
       "<div>\n",
       "<style scoped>\n",
       "    .dataframe tbody tr th:only-of-type {\n",
       "        vertical-align: middle;\n",
       "    }\n",
       "\n",
       "    .dataframe tbody tr th {\n",
       "        vertical-align: top;\n",
       "    }\n",
       "\n",
       "    .dataframe thead th {\n",
       "        text-align: right;\n",
       "    }\n",
       "</style>\n",
       "<table border=\"1\" class=\"dataframe\">\n",
       "  <thead>\n",
       "    <tr style=\"text-align: right;\">\n",
       "      <th></th>\n",
       "      <th>CRIM</th>\n",
       "      <th>ZN</th>\n",
       "      <th>INDUS</th>\n",
       "      <th>CHAS</th>\n",
       "      <th>NOX</th>\n",
       "      <th>RM</th>\n",
       "      <th>AGE</th>\n",
       "      <th>DIS</th>\n",
       "      <th>RAD</th>\n",
       "      <th>TAX</th>\n",
       "      <th>PTRATIO</th>\n",
       "      <th>B</th>\n",
       "      <th>LSTAT</th>\n",
       "    </tr>\n",
       "  </thead>\n",
       "  <tbody>\n",
       "    <tr>\n",
       "      <th>0</th>\n",
       "      <td>0.00632</td>\n",
       "      <td>18.0</td>\n",
       "      <td>2.31</td>\n",
       "      <td>0.0</td>\n",
       "      <td>0.538</td>\n",
       "      <td>6.575</td>\n",
       "      <td>65.2</td>\n",
       "      <td>4.0900</td>\n",
       "      <td>1.0</td>\n",
       "      <td>296.0</td>\n",
       "      <td>15.3</td>\n",
       "      <td>396.90</td>\n",
       "      <td>4.98</td>\n",
       "    </tr>\n",
       "    <tr>\n",
       "      <th>1</th>\n",
       "      <td>0.02731</td>\n",
       "      <td>0.0</td>\n",
       "      <td>7.07</td>\n",
       "      <td>0.0</td>\n",
       "      <td>0.469</td>\n",
       "      <td>6.421</td>\n",
       "      <td>78.9</td>\n",
       "      <td>4.9671</td>\n",
       "      <td>2.0</td>\n",
       "      <td>242.0</td>\n",
       "      <td>17.8</td>\n",
       "      <td>396.90</td>\n",
       "      <td>9.14</td>\n",
       "    </tr>\n",
       "    <tr>\n",
       "      <th>2</th>\n",
       "      <td>0.02729</td>\n",
       "      <td>0.0</td>\n",
       "      <td>7.07</td>\n",
       "      <td>0.0</td>\n",
       "      <td>0.469</td>\n",
       "      <td>7.185</td>\n",
       "      <td>61.1</td>\n",
       "      <td>4.9671</td>\n",
       "      <td>2.0</td>\n",
       "      <td>242.0</td>\n",
       "      <td>17.8</td>\n",
       "      <td>392.83</td>\n",
       "      <td>4.03</td>\n",
       "    </tr>\n",
       "  </tbody>\n",
       "</table>\n",
       "</div>"
      ],
      "text/plain": [
       "      CRIM    ZN  INDUS  CHAS    NOX     RM   AGE     DIS  RAD    TAX  \\\n",
       "0  0.00632  18.0   2.31   0.0  0.538  6.575  65.2  4.0900  1.0  296.0   \n",
       "1  0.02731   0.0   7.07   0.0  0.469  6.421  78.9  4.9671  2.0  242.0   \n",
       "2  0.02729   0.0   7.07   0.0  0.469  7.185  61.1  4.9671  2.0  242.0   \n",
       "\n",
       "   PTRATIO       B  LSTAT  \n",
       "0     15.3  396.90   4.98  \n",
       "1     17.8  396.90   9.14  \n",
       "2     17.8  392.83   4.03  "
      ]
     },
     "execution_count": 5,
     "metadata": {},
     "output_type": "execute_result"
    }
   ],
   "source": [
    "df.head(3)"
   ]
  },
  {
   "cell_type": "code",
   "execution_count": 6,
   "metadata": {},
   "outputs": [],
   "source": [
    "#our target\n",
    "y = data.target"
   ]
  },
  {
   "cell_type": "markdown",
   "metadata": {},
   "source": [
    "### The Basics\n",
    "\n",
    "Let's imagine we only had one feature available to us to predict the median housing price. That feature would be the average number of rooms per dwelling. "
   ]
  },
  {
   "cell_type": "code",
   "execution_count": 19,
   "metadata": {},
   "outputs": [
    {
     "data": {
      "image/png": "[encoded data removed]",
      "text/plain": [
       "<Figure size 432x288 with 1 Axes>"
      ]
     },
     "metadata": {
      "needs_background": "light"
     },
     "output_type": "display_data"
    }
   ],
   "source": [
    "plt.figure()\n",
    "plt.scatter(df.RM, y)\n",
    "#Line of best fit\n",
    "plt.plot(np.unique(df.RM), np.poly1d(np.polyfit(df.RM, y, 1))(np.unique(df.RM)), color ='red')\n",
    "\n",
    "plt.xlabel('Number of Rooms')\n",
    "plt.ylabel('Median Value of Homes in $1000s')\n",
    "plt.show()"
   ]
  },
  {
   "cell_type": "markdown",
   "metadata": {},
   "source": [
    "We can see that there is a positve relationship between number of rooms and value of homes. The more rooms you have in the house, the higher the value of your own home. This can be confirmed with the line of best fit on the plot.\n",
    "\n",
    "We can also look at the correlation coeficient to see how strong the relationship is between the two features. "
   ]
  },
  {
   "cell_type": "code",
   "execution_count": 43,
   "metadata": {},
   "outputs": [
    {
     "data": {
      "text/plain": [
       "array([[1.        , 0.69535995],\n",
       "       [0.69535995, 1.        ]])"
      ]
     },
     "execution_count": 43,
     "metadata": {},
     "output_type": "execute_result"
    }
   ],
   "source": [
    "np.corrcoef(df.RM,y)"
   ]
  },
  {
   "cell_type": "markdown",
   "metadata": {},
   "source": [
    "**In Essense a Linear Regression model, tries to find the line of best fit through all the features in order to best predict the target value.** \n",
    "\n",
    "However, there are some assumptions the linear regression model makes that you need to be aware of.\n",
    "\n",
    "(i) linearity and additivity of the relationship between dependent and independent variables:\n",
    "\n",
    "    (a) The expected value of dependent variable is a straight-line function of each independent variable, holding the others fixed.\n",
    "\n",
    "    (b) The slope of that line does not depend on the values of the other variables.\n",
    "\n",
    "    (c)  The effects of different independent variables on the expected value of the dependent variable are additive.\n",
    "\n",
    "(ii) statistical independence of the errors (in particular, no correlation between consecutive errors in the case of time series data)\n",
    "\n",
    "(iii) homoscedasticity (constant variance) of the errors\n",
    "\n",
    "    (a) versus time (in the case of time series data)\n",
    "\n",
    "    (b) versus the predictions\n",
    "\n",
    "    (c) versus any independent variable\n",
    "\n",
    "(iv) normality of the error distribution. \n",
    "\n",
    "\n",
    "For more information click here: http://people.duke.edu/~rnau/testing.htm"
   ]
  },
  {
   "cell_type": "markdown",
   "metadata": {},
   "source": [
    "## SKLEARN "
   ]
  },
  {
   "cell_type": "code",
   "execution_count": 25,
   "metadata": {},
   "outputs": [],
   "source": [
    "#Linear Regression Models\n",
    "from sklearn.linear_model import LinearRegression\n",
    "from sklearn.linear_model import SGDRegressor\n",
    "\n",
    "#Metrics\n",
    "from sklearn.metrics import mean_squared_error as mse\n",
    "\n",
    "#Scaler\n",
    "from sklearn.preprocessing import StandardScaler"
   ]
  },
  {
   "cell_type": "code",
   "execution_count": 21,
   "metadata": {},
   "outputs": [],
   "source": [
    "scaler = StandardScaler()\n",
    "scaler.fit(df)\n",
    "\n",
    "df_scaled = scaler.transform(df)"
   ]
  },
  {
   "cell_type": "code",
   "execution_count": 35,
   "metadata": {},
   "outputs": [],
   "source": [
    "#Intatiate Lin Reg\n",
    "lin_reg = LinearRegression()\n",
    "\n",
    "#fit\n",
    "lin_reg.fit(df_scaled, y)\n",
    "\n",
    "#pred\n",
    "predictions = lin_reg.predict(df_scaled)\n",
    "\n",
    "#Evaluate\n",
    "MSE = mse(y,predictions)"
   ]
  },
  {
   "cell_type": "code",
   "execution_count": 36,
   "metadata": {},
   "outputs": [
    {
     "name": "stdout",
     "output_type": "stream",
     "text": [
      "4.679191295697281\n"
     ]
    }
   ],
   "source": [
    "RMSE = np.sqrt(MSE)\n",
    "print(RMSE)"
   ]
  },
  {
   "cell_type": "code",
   "execution_count": 37,
   "metadata": {},
   "outputs": [],
   "source": [
    "#SGDregressor is a sklearn's lin reg model with gradietn descent\n",
    "\n",
    "lin_reg_sgd = SGDRegressor(tol=0.0001, eta0 =0.01)\n",
    "\n",
    "lin_reg_sgd.fit(df_scaled, y)\n",
    "\n",
    "\n",
    "pred_sgd = lin_reg_sgd.predict(df_scaled)\n",
    "\n",
    "\n",
    "#evaluate\n",
    "MSE_sgd = mse(y,pred_sgd)"
   ]
  },
  {
   "cell_type": "code",
   "execution_count": 38,
   "metadata": {},
   "outputs": [
    {
     "name": "stdout",
     "output_type": "stream",
     "text": [
      "4.686829348475966\n"
     ]
    }
   ],
   "source": [
    "RMSE_sgd = np.sqrt(MSE_sgd)\n",
    "print(RMSE_sgd)"
   ]
  },
  {
   "cell_type": "markdown",
   "metadata": {},
   "source": [
    "## Stats Model"
   ]
  },
  {
   "cell_type": "code",
   "execution_count": 44,
   "metadata": {},
   "outputs": [
    {
     "ename": "ModuleNotFoundError",
     "evalue": "No module named 'statsmodel'",
     "output_type": "error",
     "traceback": [
      "\u001b[0;31m---------------------------------------------------------------------------\u001b[0m",
      "\u001b[0;31mModuleNotFoundError\u001b[0m                       Traceback (most recent call last)",
      "\u001b[0;32m<ipython-input-44-535c435f72cc>\u001b[0m in \u001b[0;36m<module>\u001b[0;34m\u001b[0m\n\u001b[0;32m----> 1\u001b[0;31m \u001b[0;32mfrom\u001b[0m \u001b[0mstatsmodel\u001b[0m\u001b[0;34m.\u001b[0m\u001b[0mregression\u001b[0m \u001b[0;32mimport\u001b[0m \u001b[0mlinear_model\u001b[0m\u001b[0;34m\u001b[0m\u001b[0;34m\u001b[0m\u001b[0m\n\u001b[0m\u001b[1;32m      2\u001b[0m \u001b[0;32mimport\u001b[0m \u001b[0mstatsmodel\u001b[0m\u001b[0;34m.\u001b[0m\u001b[0mapi\u001b[0m \u001b[0;32mas\u001b[0m \u001b[0msm\u001b[0m\u001b[0;34m\u001b[0m\u001b[0;34m\u001b[0m\u001b[0m\n",
      "\u001b[0;31mModuleNotFoundError\u001b[0m: No module named 'statsmodel'"
     ]
    }
   ],
   "source": [
    "from statsmodel.regression import linear_model\n",
    "import statsmodel.api as sm"
   ]
  },
  {
   "cell_type": "code",
   "execution_count": 45,
   "metadata": {},
   "outputs": [],
   "source": [
    "# will do that bit later"
   ]
  },
  {
   "cell_type": "code",
   "execution_count": null,
   "metadata": {},
   "outputs": [],
   "source": []
  },
  {
   "cell_type": "markdown",
   "metadata": {},
   "source": [
    "#### Pro Tip: If you have a feature that is categorical, it's best to convert them to dummy vaiables when feeding it to the linear regression odel. "
   ]
  },
  {
   "cell_type": "markdown",
   "metadata": {},
   "source": [
    "## Interpreting your model and how to improve it"
   ]
  },
  {
   "cell_type": "code",
   "execution_count": 39,
   "metadata": {},
   "outputs": [],
   "source": [
    "# Lets look at the coeficcients"
   ]
  },
  {
   "cell_type": "code",
   "execution_count": 42,
   "metadata": {},
   "outputs": [
    {
     "data": {
      "text/plain": [
       "[('AGE', 0.01946607165704488),\n",
       " ('INDUS', 0.14089999690428306),\n",
       " ('CHAS', 0.6817397247777968),\n",
       " ('B', 0.8492684177053306),\n",
       " ('CRIM', -0.9281460643012006),\n",
       " ('ZN', 1.0815686278223722),\n",
       " ('NOX', -2.05671826600522),\n",
       " ('PTRATIO', -2.0606066589067615),\n",
       " ('TAX', -2.0767816838433775),\n",
       " ('RAD', 2.662217642473626),\n",
       " ('RM', 2.6742301652393214),\n",
       " ('DIS', -3.1040442580864447),\n",
       " ('LSTAT', -3.7436271264671097)]"
      ]
     },
     "execution_count": 42,
     "metadata": {},
     "output_type": "execute_result"
    }
   ],
   "source": [
    "sorted(list(zip(df.columns,lin_reg.coef_)), key = lambda x: abs(x[1]))"
   ]
  },
  {
   "cell_type": "markdown",
   "metadata": {},
   "source": [
    "The Coefficents represent the average change in housing price for one unit of change in the feature, while hodling other features in the model constant. \n",
    "\n",
    "Example, holding all features constant, unit incrase in RM will increase our target value by 2.674"
   ]
  },
  {
   "cell_type": "code",
   "execution_count": null,
   "metadata": {},
   "outputs": [],
   "source": []
  }
 ],
 "metadata": {
  "kernelspec": {
   "display_name": "Python 3",
   "language": "python",
   "name": "python3"
  },
  "language_info": {
   "codemirror_mode": {
    "name": "ipython",
    "version": 3
   },
   "file_extension": ".py",
   "mimetype": "text/x-python",
   "name": "python",
   "nbconvert_exporter": "python",
   "pygments_lexer": "ipython3",
   "version": "3.7.6"
  }
 },
 "nbformat": 4,
 "nbformat_minor": 4
}
